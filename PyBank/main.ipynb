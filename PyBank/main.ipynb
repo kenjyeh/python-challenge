{
 "cells": [
  {
   "cell_type": "code",
   "execution_count": 118,
   "metadata": {},
   "outputs": [],
   "source": [
    "import os\n",
    "import csv"
   ]
  },
  {
   "cell_type": "code",
   "execution_count": 119,
   "metadata": {},
   "outputs": [],
   "source": [
    "#point at path\n",
    "budget_data = os.path.join(\"Resources\", \"budget_data.csv\")"
   ]
  },
  {
   "cell_type": "code",
   "execution_count": 120,
   "metadata": {},
   "outputs": [],
   "source": [
    "#create lists\n",
    "total_months = []\n",
    "net_profit = []\n",
    "profit_change = []"
   ]
  },
  {
   "cell_type": "code",
   "execution_count": 121,
   "metadata": {},
   "outputs": [],
   "source": [
    "with open(budget_data, newline=\"\") as budget_csv:\n",
    "    budget_reader = csv.reader(budget_csv, delimiter=\",\")\n",
    "    header = next(budget_reader)\n",
    "    \n",
    "    #months in 0 index profit in 1 index\n",
    "    for row in budget_reader:\n",
    "        total_months.append(row[0])\n",
    "        net_profit.append(int(row[1]))\n",
    "    #calculate profit change from month to month    \n",
    "    for i in range(len(net_profit)-1):\n",
    "        profit_change.append(net_profit[i+1]-net_profit[i])\n"
   ]
  },
  {
   "cell_type": "code",
   "execution_count": 122,
   "metadata": {},
   "outputs": [],
   "source": [
    "#calculate monthly change\n",
    "monthly_increase = profit_change.index(max_profit)+1\n",
    "monthly_decrease = profit_change.index(min_profit)+1"
   ]
  },
  {
   "cell_type": "code",
   "execution_count": 125,
   "metadata": {},
   "outputs": [
    {
     "name": "stdout",
     "output_type": "stream",
     "text": [
      "Financial Analysis\n",
      "Total Months:86\n",
      "Total: $38382578\n",
      "Average Change:-2315.12\n",
      "Greatest Increase in Profits: Feb-2012 ($1926159)\n",
      "Greatest Decrease in Profits: Sep-2013 ($-2196167)\n"
     ]
    }
   ],
   "source": [
    "#Analysis\n",
    "print(\"Financial Analysis\")\n",
    "print(f\"Total Months:{len(total_months)}\")\n",
    "print(f\"Total: ${sum(net_profit)}\")\n",
    "print(f\"Average Change:{round(sum(profit_change)/len(profit_change),2)}\")\n",
    "print(f\"Greatest Increase in Profits: {total_months[monthly_increase]} (${(str(max(profit_change)))})\")\n",
    "print(f\"Greatest Decrease in Profits: {total_months[monthly_decrease]} (${(str(min(profit_change)))})\")"
   ]
  },
  {
   "cell_type": "code",
   "execution_count": 138,
   "metadata": {},
   "outputs": [],
   "source": [
    "output_file = os.path.join(\"analysis\",\"financial_analysis.txt\")\n",
    "with open(output_file,\"w\") as new:\n",
    "    new.write(\"Financial Analysis\")\n",
    "    new.write(\"\\n\")\n",
    "    new.write(f\"Total Months:{len(total_months)}\")\n",
    "    new.write(\"\\n\")\n",
    "    new.write(f\"Total: ${sum(net_profit)}\")\n",
    "    new.write(\"\\n\")\n",
    "    new.write(f\"Average Change: {round(sum(profit_change)/len(profit_change),2)}\")\n",
    "    new.write(\"\\n\")\n",
    "    new.write(f\"Greatest Increase in Profits: {total_months[monthly_increase]} (${(str(increase))})\")\n",
    "    new.write(\"\\n\")\n",
    "    new.write(f\"Greatest Decrease in Profits: {total_months[monthly_decrease]} (${(str(increase))})\")"
   ]
  },
  {
   "cell_type": "code",
   "execution_count": null,
   "metadata": {},
   "outputs": [],
   "source": []
  },
  {
   "cell_type": "code",
   "execution_count": null,
   "metadata": {},
   "outputs": [],
   "source": []
  }
 ],
 "metadata": {
  "kernelspec": {
   "display_name": "Python 3",
   "language": "python",
   "name": "python3"
  },
  "language_info": {
   "codemirror_mode": {
    "name": "ipython",
    "version": 3
   },
   "file_extension": ".py",
   "mimetype": "text/x-python",
   "name": "python",
   "nbconvert_exporter": "python",
   "pygments_lexer": "ipython3",
   "version": "3.8.5"
  }
 },
 "nbformat": 4,
 "nbformat_minor": 4
}
