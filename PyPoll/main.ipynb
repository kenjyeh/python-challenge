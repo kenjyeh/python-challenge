{
 "cells": [
  {
   "cell_type": "code",
   "execution_count": 3,
   "metadata": {},
   "outputs": [],
   "source": [
    "import os\n",
    "import csv"
   ]
  },
  {
   "cell_type": "code",
   "execution_count": 4,
   "metadata": {},
   "outputs": [],
   "source": [
    "#point to path\n",
    "poll_data = os.path.join(\"Resources\",\"election_data.csv\")"
   ]
  },
  {
   "cell_type": "code",
   "execution_count": 5,
   "metadata": {},
   "outputs": [],
   "source": [
    "#lists for counting\n",
    "votes = 0\n",
    "candidate_list = []\n",
    "unique_candidate = []\n",
    "vote_count = []\n",
    "vote_percent = []"
   ]
  },
  {
   "cell_type": "code",
   "execution_count": 6,
   "metadata": {},
   "outputs": [],
   "source": [
    "with open(poll_data, newline=\"\") as poll_csv:\n",
    "    csvreader = csv.reader(poll_csv, delimiter=\",\")\n",
    "    csv_header = next(csvreader)\n",
    "    \n",
    "    for row in csvreader:\n",
    "        # tally votes\n",
    "        votes = votes + 1\n",
    "        # record canididate names\n",
    "        candidate_list.append(row[2])\n",
    "        # for loop to record votes for unique candidate\n",
    "    for x in set(candidate_list):\n",
    "        unique_candidate.append(x)\n",
    "        # total vote per candidate\n",
    "        y = candidate_list.count(x)\n",
    "        vote_count.append(y)\n",
    "        # calculate percentage of votes\n",
    "        z = round((y/votes)*100,4)\n",
    "        vote_percent.append(z)\n",
    "    \n"
   ]
  },
  {
   "cell_type": "code",
   "execution_count": 7,
   "metadata": {},
   "outputs": [],
   "source": [
    "    #store max of all vote counts\n",
    "    winning_vote_count = max(vote_count)\n",
    "    #store winning candidate\n",
    "    winner = unique_candidate[vote_count.index(winning_vote_count)]"
   ]
  },
  {
   "cell_type": "code",
   "execution_count": 8,
   "metadata": {},
   "outputs": [
    {
     "name": "stdout",
     "output_type": "stream",
     "text": [
      "-------------------------\n",
      "Election Results\n",
      "-------------------------\n",
      "Total Votes :3521001\n",
      "-------------------------\n",
      "Correy: 20.0% (704200)\n",
      "Li: 14.0% (492940)\n",
      "O'Tooley: 3.0% (105630)\n",
      "Khan: 63.0% (2218231)\n",
      "-------------------------\n",
      "The winner is: Khan\n",
      "-------------------------\n"
     ]
    }
   ],
   "source": [
    "print(\"-------------------------\")\n",
    "print(\"Election Results\")   \n",
    "print(\"-------------------------\")\n",
    "print(\"Total Votes :\" + str(votes))    \n",
    "print(\"-------------------------\")\n",
    "for i in range(len(unique_candidate)):\n",
    "            print(unique_candidate[i] + \": \" + str(vote_percent[i]) +\"% (\" + str(vote_count[i])+ \")\")\n",
    "print(\"-------------------------\")\n",
    "print(\"The winner is: \" + winner)\n",
    "print(\"-------------------------\")"
   ]
  },
  {
   "cell_type": "code",
   "execution_count": 9,
   "metadata": {},
   "outputs": [],
   "source": [
    "output_file = os.path.join(\"analysis\",\"election_results.txt\")\n",
    "with open(output_file, 'w') as text:\n",
    "    text.write(\"Election Results\\n\")\n",
    "    text.write(\"---------------------------------------\\n\")\n",
    "    text.write(\"Total Vote: \" + str(votes) + \"\\n\")\n",
    "    text.write(\"---------------------------------------\\n\")\n",
    "    for i in range(len(set(unique_candidate))):\n",
    "        text.write(unique_candidate[i] + \": \" + str(vote_percent[i]) +\"% (\" + str(vote_count[i]) + \")\\n\")\n",
    "    text.write(\"---------------------------------------\\n\")\n",
    "    text.write(\"The winner is: \" + winner + \"\\n\")\n",
    "    text.write(\"---------------------------------------\\n\")"
   ]
  },
  {
   "cell_type": "code",
   "execution_count": null,
   "metadata": {},
   "outputs": [],
   "source": []
  },
  {
   "cell_type": "code",
   "execution_count": null,
   "metadata": {},
   "outputs": [],
   "source": []
  },
  {
   "cell_type": "code",
   "execution_count": null,
   "metadata": {},
   "outputs": [],
   "source": []
  }
 ],
 "metadata": {
  "kernelspec": {
   "display_name": "Python 3",
   "language": "python",
   "name": "python3"
  },
  "language_info": {
   "codemirror_mode": {
    "name": "ipython",
    "version": 3
   },
   "file_extension": ".py",
   "mimetype": "text/x-python",
   "name": "python",
   "nbconvert_exporter": "python",
   "pygments_lexer": "ipython3",
   "version": "3.8.5"
  }
 },
 "nbformat": 4,
 "nbformat_minor": 4
}
